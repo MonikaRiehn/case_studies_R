{
 "cells": [
  {
   "cell_type": "markdown",
   "id": "00ca161d",
   "metadata": {},
   "source": [
    "# Data In Motion\n",
    "## Data Analysis Challenges\n",
    "### Challenge 1: Chipotle Sales"
   ]
  },
  {
   "cell_type": "code",
   "execution_count": 127,
   "id": "1afb6cc9",
   "metadata": {},
   "outputs": [],
   "source": [
    "library(dplyr, quietly = TRUE)"
   ]
  },
  {
   "cell_type": "code",
   "execution_count": 128,
   "id": "852d790f",
   "metadata": {},
   "outputs": [],
   "source": [
    "chipo <- read.csv(\"https://raw.githubusercontent.com/justmarkham/DAT8/master/data/chipotle.tsv\", sep = \"\\t\")"
   ]
  },
  {
   "cell_type": "code",
   "execution_count": 129,
   "id": "ae75b398",
   "metadata": {},
   "outputs": [
    {
     "name": "stdout",
     "output_type": "stream",
     "text": [
      "'data.frame':\t4622 obs. of  5 variables:\n",
      " $ order_id          : int  1 1 1 1 2 3 3 4 4 5 ...\n",
      " $ quantity          : int  1 1 1 1 2 1 1 1 1 1 ...\n",
      " $ item_name         : chr  \"Chips and Fresh Tomato Salsa\" \"Izze\" \"Nantucket Nectar\" \"Chips and Tomatillo-Green Chili Salsa\" ...\n",
      " $ choice_description: chr  \"NULL\" \"[Clementine]\" \"[Apple]\" \"NULL\" ...\n",
      " $ item_price        : chr  \"$2.39 \" \"$3.39 \" \"$3.39 \" \"$2.39 \" ...\n"
     ]
    }
   ],
   "source": [
    "str(chipo)"
   ]
  },
  {
   "cell_type": "markdown",
   "id": "1ab24507",
   "metadata": {},
   "source": [
    "## 1. Which was the most ordered item?"
   ]
  },
  {
   "cell_type": "code",
   "execution_count": 130,
   "id": "ac692dce",
   "metadata": {},
   "outputs": [
    {
     "data": {
      "text/html": [
       "<table class=\"dataframe\">\n",
       "<caption>A data.frame: 1 × 2</caption>\n",
       "<thead>\n",
       "\t<tr><th scope=col>item_name</th><th scope=col>n</th></tr>\n",
       "\t<tr><th scope=col>&lt;chr&gt;</th><th scope=col>&lt;int&gt;</th></tr>\n",
       "</thead>\n",
       "<tbody>\n",
       "\t<tr><td>Chicken Bowl</td><td>726</td></tr>\n",
       "</tbody>\n",
       "</table>\n"
      ],
      "text/latex": [
       "A data.frame: 1 × 2\n",
       "\\begin{tabular}{ll}\n",
       " item\\_name & n\\\\\n",
       " <chr> & <int>\\\\\n",
       "\\hline\n",
       "\t Chicken Bowl & 726\\\\\n",
       "\\end{tabular}\n"
      ],
      "text/markdown": [
       "\n",
       "A data.frame: 1 × 2\n",
       "\n",
       "| item_name &lt;chr&gt; | n &lt;int&gt; |\n",
       "|---|---|\n",
       "| Chicken Bowl | 726 |\n",
       "\n"
      ],
      "text/plain": [
       "  item_name    n  \n",
       "1 Chicken Bowl 726"
      ]
     },
     "metadata": {},
     "output_type": "display_data"
    }
   ],
   "source": [
    "chipo |>\n",
    "count(item_name) |>\n",
    "slice_max(n)"
   ]
  },
  {
   "cell_type": "markdown",
   "id": "2bc20946",
   "metadata": {},
   "source": [
    "## 2. For the most-ordered item, how many items were ordered?"
   ]
  },
  {
   "cell_type": "code",
   "execution_count": 131,
   "id": "3bdd01c5",
   "metadata": {},
   "outputs": [
    {
     "data": {
      "text/html": [
       "<table class=\"dataframe\">\n",
       "<caption>A tibble: 1 × 2</caption>\n",
       "<thead>\n",
       "\t<tr><th scope=col>item_name</th><th scope=col>total_ordered</th></tr>\n",
       "\t<tr><th scope=col>&lt;chr&gt;</th><th scope=col>&lt;int&gt;</th></tr>\n",
       "</thead>\n",
       "<tbody>\n",
       "\t<tr><td>Chicken Bowl</td><td>761</td></tr>\n",
       "</tbody>\n",
       "</table>\n"
      ],
      "text/latex": [
       "A tibble: 1 × 2\n",
       "\\begin{tabular}{ll}\n",
       " item\\_name & total\\_ordered\\\\\n",
       " <chr> & <int>\\\\\n",
       "\\hline\n",
       "\t Chicken Bowl & 761\\\\\n",
       "\\end{tabular}\n"
      ],
      "text/markdown": [
       "\n",
       "A tibble: 1 × 2\n",
       "\n",
       "| item_name &lt;chr&gt; | total_ordered &lt;int&gt; |\n",
       "|---|---|\n",
       "| Chicken Bowl | 761 |\n",
       "\n"
      ],
      "text/plain": [
       "  item_name    total_ordered\n",
       "1 Chicken Bowl 761          "
      ]
     },
     "metadata": {},
     "output_type": "display_data"
    }
   ],
   "source": [
    "chipo |>\n",
    "group_by(item_name) |>\n",
    "summarize(total_ordered = sum(quantity)) |>\n",
    "slice_max(total_ordered)"
   ]
  },
  {
   "cell_type": "markdown",
   "id": "d502f491",
   "metadata": {},
   "source": [
    "## 3. What was the most ordered item in the choice_description column?"
   ]
  },
  {
   "cell_type": "code",
   "execution_count": 132,
   "id": "f6ae15f1",
   "metadata": {},
   "outputs": [
    {
     "data": {
      "text/html": [
       "<table class=\"dataframe\">\n",
       "<caption>A data.frame: 1 × 2</caption>\n",
       "<thead>\n",
       "\t<tr><th scope=col>choice_description</th><th scope=col>n</th></tr>\n",
       "\t<tr><th scope=col>&lt;chr&gt;</th><th scope=col>&lt;int&gt;</th></tr>\n",
       "</thead>\n",
       "<tbody>\n",
       "\t<tr><td>[Diet Coke]</td><td>134</td></tr>\n",
       "</tbody>\n",
       "</table>\n"
      ],
      "text/latex": [
       "A data.frame: 1 × 2\n",
       "\\begin{tabular}{ll}\n",
       " choice\\_description & n\\\\\n",
       " <chr> & <int>\\\\\n",
       "\\hline\n",
       "\t {[}Diet Coke{]} & 134\\\\\n",
       "\\end{tabular}\n"
      ],
      "text/markdown": [
       "\n",
       "A data.frame: 1 × 2\n",
       "\n",
       "| choice_description &lt;chr&gt; | n &lt;int&gt; |\n",
       "|---|---|\n",
       "| [Diet Coke] | 134 |\n",
       "\n"
      ],
      "text/plain": [
       "  choice_description n  \n",
       "1 [Diet Coke]        134"
      ]
     },
     "metadata": {},
     "output_type": "display_data"
    }
   ],
   "source": [
    "chipo |>\n",
    "filter(choice_description != 'NULL') |>\n",
    "count(choice_description) |>\n",
    "slice_max(n)"
   ]
  },
  {
   "cell_type": "markdown",
   "id": "3e70c1ca",
   "metadata": {},
   "source": [
    "## 4. How many items were ordered in total?"
   ]
  },
  {
   "cell_type": "code",
   "execution_count": 133,
   "id": "99404784",
   "metadata": {},
   "outputs": [
    {
     "data": {
      "text/html": [
       "<table class=\"dataframe\">\n",
       "<caption>A data.frame: 1 × 1</caption>\n",
       "<thead>\n",
       "\t<tr><th scope=col>total_items_ordered</th></tr>\n",
       "\t<tr><th scope=col>&lt;int&gt;</th></tr>\n",
       "</thead>\n",
       "<tbody>\n",
       "\t<tr><td>4972</td></tr>\n",
       "</tbody>\n",
       "</table>\n"
      ],
      "text/latex": [
       "A data.frame: 1 × 1\n",
       "\\begin{tabular}{l}\n",
       " total\\_items\\_ordered\\\\\n",
       " <int>\\\\\n",
       "\\hline\n",
       "\t 4972\\\\\n",
       "\\end{tabular}\n"
      ],
      "text/markdown": [
       "\n",
       "A data.frame: 1 × 1\n",
       "\n",
       "| total_items_ordered &lt;int&gt; |\n",
       "|---|\n",
       "| 4972 |\n",
       "\n"
      ],
      "text/plain": [
       "  total_items_ordered\n",
       "1 4972               "
      ]
     },
     "metadata": {},
     "output_type": "display_data"
    }
   ],
   "source": [
    "chipo |>\n",
    "summarize(total_items_ordered = sum(quantity))"
   ]
  },
  {
   "cell_type": "markdown",
   "id": "a16e4832",
   "metadata": {},
   "source": [
    "## 5. Turn the item price into a float"
   ]
  },
  {
   "cell_type": "code",
   "execution_count": 134,
   "id": "23e0dada",
   "metadata": {},
   "outputs": [],
   "source": [
    "library(readr)"
   ]
  },
  {
   "cell_type": "code",
   "execution_count": 135,
   "id": "51a4b2d7",
   "metadata": {},
   "outputs": [
    {
     "name": "stdout",
     "output_type": "stream",
     "text": [
      "'data.frame':\t4622 obs. of  5 variables:\n",
      " $ order_id          : int  1 1 1 1 2 3 3 4 4 5 ...\n",
      " $ quantity          : int  1 1 1 1 2 1 1 1 1 1 ...\n",
      " $ item_name         : chr  \"Chips and Fresh Tomato Salsa\" \"Izze\" \"Nantucket Nectar\" \"Chips and Tomatillo-Green Chili Salsa\" ...\n",
      " $ choice_description: chr  \"NULL\" \"[Clementine]\" \"[Apple]\" \"NULL\" ...\n",
      " $ item_price        : num  2.39 3.39 3.39 2.39 16.98 ...\n"
     ]
    }
   ],
   "source": [
    "chipo$item_price <- parse_number(chipo$item_price)\n",
    "\n",
    "str(chipo)"
   ]
  },
  {
   "cell_type": "markdown",
   "id": "3c35fdb5",
   "metadata": {},
   "source": [
    "## 6. How much was the revenue for the period in the dataset?"
   ]
  },
  {
   "cell_type": "code",
   "execution_count": 136,
   "id": "27e50334",
   "metadata": {},
   "outputs": [
    {
     "data": {
      "text/html": [
       "<table class=\"dataframe\">\n",
       "<caption>A data.frame: 1 × 1</caption>\n",
       "<thead>\n",
       "\t<tr><th scope=col>total_revenue</th></tr>\n",
       "\t<tr><th scope=col>&lt;dbl&gt;</th></tr>\n",
       "</thead>\n",
       "<tbody>\n",
       "\t<tr><td>39237.02</td></tr>\n",
       "</tbody>\n",
       "</table>\n"
      ],
      "text/latex": [
       "A data.frame: 1 × 1\n",
       "\\begin{tabular}{l}\n",
       " total\\_revenue\\\\\n",
       " <dbl>\\\\\n",
       "\\hline\n",
       "\t 39237.02\\\\\n",
       "\\end{tabular}\n"
      ],
      "text/markdown": [
       "\n",
       "A data.frame: 1 × 1\n",
       "\n",
       "| total_revenue &lt;dbl&gt; |\n",
       "|---|\n",
       "| 39237.02 |\n",
       "\n"
      ],
      "text/plain": [
       "  total_revenue\n",
       "1 39237.02     "
      ]
     },
     "metadata": {},
     "output_type": "display_data"
    }
   ],
   "source": [
    "chipo |>\n",
    "mutate(revenue = quantity * item_price) |>\n",
    "summarize(total_revenue = sum(revenue))"
   ]
  },
  {
   "cell_type": "markdown",
   "id": "fbe5d5da",
   "metadata": {},
   "source": [
    "## 7. How many orders were made in the period?"
   ]
  },
  {
   "cell_type": "code",
   "execution_count": 141,
   "id": "b134dda7",
   "metadata": {},
   "outputs": [
    {
     "data": {
      "text/html": [
       "1834"
      ],
      "text/latex": [
       "1834"
      ],
      "text/markdown": [
       "1834"
      ],
      "text/plain": [
       "[1] 1834"
      ]
     },
     "metadata": {},
     "output_type": "display_data"
    }
   ],
   "source": [
    "n_distinct(chipo$order_id)"
   ]
  },
  {
   "cell_type": "markdown",
   "id": "9aed9d41",
   "metadata": {},
   "source": [
    "## 8. What is the average revenue amount per order?"
   ]
  },
  {
   "cell_type": "code",
   "execution_count": 152,
   "id": "f5b61f69",
   "metadata": {},
   "outputs": [
    {
     "data": {
      "text/html": [
       "<table class=\"dataframe\">\n",
       "<caption>A tibble: 1 × 1</caption>\n",
       "<thead>\n",
       "\t<tr><th scope=col>arverage_revenue</th></tr>\n",
       "\t<tr><th scope=col>&lt;dbl&gt;</th></tr>\n",
       "</thead>\n",
       "<tbody>\n",
       "\t<tr><td>21.39423</td></tr>\n",
       "</tbody>\n",
       "</table>\n"
      ],
      "text/latex": [
       "A tibble: 1 × 1\n",
       "\\begin{tabular}{l}\n",
       " arverage\\_revenue\\\\\n",
       " <dbl>\\\\\n",
       "\\hline\n",
       "\t 21.39423\\\\\n",
       "\\end{tabular}\n"
      ],
      "text/markdown": [
       "\n",
       "A tibble: 1 × 1\n",
       "\n",
       "| arverage_revenue &lt;dbl&gt; |\n",
       "|---|\n",
       "| 21.39423 |\n",
       "\n"
      ],
      "text/plain": [
       "  arverage_revenue\n",
       "1 21.39423        "
      ]
     },
     "metadata": {},
     "output_type": "display_data"
    }
   ],
   "source": [
    "chipo |>\n",
    "mutate(revenue = quantity * item_price) |>\n",
    "group_by(order_id) |>\n",
    "summarize(revenue_per_order = sum(revenue)) |>\n",
    "summarize(arverage_revenue = mean(revenue_per_order))"
   ]
  },
  {
   "cell_type": "markdown",
   "id": "4662b017",
   "metadata": {},
   "source": [
    "## 9. How many different items are sold?"
   ]
  },
  {
   "cell_type": "code",
   "execution_count": 154,
   "id": "624eda2b",
   "metadata": {},
   "outputs": [
    {
     "data": {
      "text/html": [
       "50"
      ],
      "text/latex": [
       "50"
      ],
      "text/markdown": [
       "50"
      ],
      "text/plain": [
       "[1] 50"
      ]
     },
     "metadata": {},
     "output_type": "display_data"
    }
   ],
   "source": [
    "n_distinct(chipo$item_name)"
   ]
  }
 ],
 "metadata": {
  "kernelspec": {
   "display_name": "R",
   "language": "R",
   "name": "ir"
  },
  "language_info": {
   "codemirror_mode": "r",
   "file_extension": ".r",
   "mimetype": "text/x-r-source",
   "name": "R",
   "pygments_lexer": "r",
   "version": "4.3.0"
  }
 },
 "nbformat": 4,
 "nbformat_minor": 5
}
